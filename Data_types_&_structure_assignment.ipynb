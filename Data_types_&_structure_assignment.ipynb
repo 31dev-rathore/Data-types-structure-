{
  "nbformat": 4,
  "nbformat_minor": 0,
  "metadata": {
    "colab": {
      "provenance": []
    },
    "kernelspec": {
      "name": "python3",
      "display_name": "Python 3"
    },
    "language_info": {
      "name": "python"
    }
  },
  "cells": [
    {
      "cell_type": "markdown",
      "source": [
        "# **Theory questions**"
      ],
      "metadata": {
        "id": "x17woxuCbqYO"
      }
    },
    {
      "cell_type": "markdown",
      "source": [
        "Q.1 What are data structures, and why are they important?\n",
        "\n",
        "  Data structure is a way of organizing and storing data so that can be accessed and manipulated efficiently,\n",
        "  it is improtant because it provide organized ways to store and manipulate data, enabling efficient algorithms and improved code performance."
      ],
      "metadata": {
        "id": "-MEz2uAgb17v"
      }
    },
    {
      "cell_type": "markdown",
      "source": [
        "Q.2 Explain the difference between mutable and immutable data types with examples.\n",
        "\n",
        "  Mutable: Think \"changeable containers\" – like a list you can update, remove from, or add to.\n",
        "\n",
        "  Immutable: Think \"frozen values\" – like a string or number that stays the same.\n"
      ],
      "metadata": {
        "id": "x0NhMGUjb_pT"
      }
    },
    {
      "cell_type": "code",
      "source": [
        "list = [1, 2, 3,]\n",
        "list[0] = 10\n",
        "print(list) (example - mutable data types)"
      ],
      "metadata": {
        "colab": {
          "base_uri": "https://localhost:8080/"
        },
        "id": "AkZ3nV6Lhpeh",
        "outputId": "4556e507-381d-44de-99cf-5c06c91878cb"
      },
      "execution_count": 4,
      "outputs": [
        {
          "output_type": "stream",
          "name": "stdout",
          "text": [
            "[10, 2, 3]\n"
          ]
        }
      ]
    },
    {
      "cell_type": "code",
      "source": [
        "my_string = \"hello\"\n",
        "new_string = my_string.replace(\"h\", \"j\")\n",
        "print(my_string)\n",
        "print(new_string) (example- Immutable Data Types)"
      ],
      "metadata": {
        "colab": {
          "base_uri": "https://localhost:8080/"
        },
        "id": "spUotPQUiIxj",
        "outputId": "2428ec58-2044-45e6-b48f-74220128bc66"
      },
      "execution_count": 5,
      "outputs": [
        {
          "output_type": "stream",
          "name": "stdout",
          "text": [
            "hello\n",
            "jello\n"
          ]
        }
      ]
    },
    {
      "cell_type": "markdown",
      "source": [
        "Q.3 What are the main differences between lists and tuples in Python?\n",
        "   Differences Between Lists and Tuples in Python 3\n",
        "\n",
        "**Mutability:**\n",
        "\n",
        "-Lists are mutable, meaning their elements can be changed, added, or removed after the list is created.\n",
        "\n",
        "-Tuples are immutable, which means once a tuple is created, its elements cannot be modified.\n",
        "\n",
        "**Syntax:**\n",
        "\n",
        "-Lists are defined using square brackets [ ].\n",
        "\n",
        "-Tuples are defined using parentheses ( ).\n",
        "\n",
        "**Performance:**\n",
        "\n",
        "-Due to their mutability, lists are generally slower and consume more memory.\n",
        "\n",
        "-Tuples, being immutable, are faster and more memory-efficient.\n",
        "\n",
        "**Methods:**\n",
        "\n",
        "-Lists support a wide range of built-in methods such as append(), extend(), remove(), etc.\n",
        "\n",
        "-Tuples have fewer methods, mainly count() and index(), due to their immutability."
      ],
      "metadata": {
        "id": "XI6QZU0MjOsi"
      }
    },
    {
      "cell_type": "markdown",
      "source": [
        "Q.4 Describe how dictionaries store data.\n",
        "\n",
        "   In Python, a dictionary stores data as key-value pairs using a structure called a hash table. When a key-value pair is added, Python calculates a unique hash value for the key using the built-in hash() function. This hash determines where the data is stored in memory. Keys must be immutable and unique, while values can be of any type and may be duplicated. The dictionary uses the hash to quickly locate values, making operations like insertion, deletion, and lookup very fast—typically in constant time (O(1)). If two keys produce the same hash (a collision), Python uses methods like open addressing to resolve it."
      ],
      "metadata": {
        "id": "SJt4yXmLk5BY"
      }
    },
    {
      "cell_type": "markdown",
      "source": [
        "Q.5 Why might you use a set instead of a list in Python?\n",
        "\n",
        "  We might use a set instead of a list in Python when you need to store a collection of unique elements and don't care about the order of items. Sets automatically eliminate duplicates, making them ideal for tasks like removing repeated values or checking membership efficiently. While lists maintain order and allow duplicates, sets are unordered and do not allow duplicate items, which simplifies certain operations. Additionally, membership tests (using the in keyword) are generally faster with sets than with lists because sets use a hash-based structure, whereas lists require scanning each element. Therefore, if your main goal is to store unique items and perform fast lookups, a set is the better choice."
      ],
      "metadata": {
        "id": "JAm9n3C1lpxv"
      }
    },
    {
      "cell_type": "markdown",
      "source": [
        "Q.6 What is a string in Python, and how is it different from a list?\n",
        "   \n",
        "   A string in Python is a sequence of characters enclosed in single quotes ('...'), double quotes (\"...\"), or triple quotes ('''...''' or \"\"\"...\"\"\"). Strings are used to store text such as words, sentences, or any combination of letters, numbers, and symbols. In Python, strings are immutable, meaning their contents cannot be changed after creation.\n",
        "\n",
        "-How is it different from a list:\n",
        "\n",
        " In Python, a string is a sequence of characters used to represent text, and it is immutable, meaning once a string is created, its contents cannot be changed. On the other hand, a list is a collection that can hold a sequence of items of any data type and is mutable, allowing you to modify, add, or remove elements after creation. While strings are specifically designed for handling textual data, lists provide a more general-purpose container for various types of data. Additionally, strings support many text-specific operations like slicing, searching, and formatting, whereas lists offer methods to manipulate their elements such as appending, sorting, or extending. Thus, the key difference lies in their mutability and the type of data they are intended to store and manipulate."
      ],
      "metadata": {
        "id": "W-pP9oJzl3lt"
      }
    },
    {
      "cell_type": "markdown",
      "source": [
        "Q.7 How do tuples ensure data integrity in Python?\n",
        "\n",
        "  Tuples help keep data safe in Python because they are immutable, which means once you create a tuple, you cannot change its contents. You can’t add, remove, or modify any items inside it. This makes tuples useful for storing information that should stay the same and not be accidentally changed. Because of this, tuples help protect the data and keep it reliable throughout your program."
      ],
      "metadata": {
        "id": "FSpxg4R1nClw"
      }
    },
    {
      "cell_type": "markdown",
      "source": [
        "Q.8 What is a hash table, and how does it relate to dictionaries in Python?\n",
        "\n",
        "  A hash table is a data structure that stores data in key-value pairs and uses a hash function to quickly find the location (or index) where each value is stored. When you add a key to a hash table, the hash function converts the key into a numeric hash code, which determines where to store the value in memory. This makes looking up, adding, or deleting items very fast—usually in constant time (O(1)).\n",
        "  "
      ],
      "metadata": {
        "id": "a0ygIyMtnkd6"
      }
    },
    {
      "cell_type": "markdown",
      "source": [
        "Q.9  Can lists contain different data types in Python?\n",
        "\n",
        "   Yes, lists in Python can contain different data types all together. A single list can hold integers, strings, floats, other lists, or any combination of data types. This makes lists very flexible for storing mixed data. For example, you can have a list like `[1, \"apple\", 3.14, True]`, which contains an integer, a string, a float, and a boolean in the same list.\n",
        "   \n"
      ],
      "metadata": {
        "id": "qOgmxdw3nkvN"
      }
    },
    {
      "cell_type": "markdown",
      "source": [
        "Q.10 Explain why strings are immutable in Python.\n",
        "\n",
        "   Strings are immutable in Python because once a string is created, its contents cannot be changed. This design choice makes strings safe and reliable to use throughout a program, especially when multiple parts of the code might reference the same string. Immutability allows Python to optimize memory usage by reusing string objects rather than creating copies unnecessarily. It also helps prevent unexpected side effects or bugs that could happen if one part of the program accidentally changed a string used elsewhere. Additionally, because strings are immutable, they can be used as keys in dictionaries and elements in sets, which require objects to be hashable and unchanging.\n",
        "   "
      ],
      "metadata": {
        "id": "c7kiEzkYnk8_"
      }
    },
    {
      "cell_type": "markdown",
      "source": [
        "Q.11 What advantages do dictionaries offer over lists for certain tasks?\n",
        "     \n",
        "  Dictionaries offer several advantages over lists for certain tasks, mainly because they store data as **key-value pairs** rather than just ordered items. One major advantage is **fast lookup**: accessing a value by its key in a dictionary is typically much quicker (average O(1) time) compared to searching for an item in a list, which can take longer (O(n)) if you have to check each element. Dictionaries also allow you to use meaningful keys instead of numeric indexes, making the code more readable and easier to work with, especially when dealing with complex data. Additionally, dictionaries enforce **unique keys**, which helps organize data without duplicates in keys, while lists can contain duplicate items. This makes dictionaries ideal for tasks like counting occurrences, grouping data, or representing objects with named attributes.\n",
        "  \n",
        "\n",
        "     "
      ],
      "metadata": {
        "id": "TiCod-7En3Ki"
      }
    },
    {
      "cell_type": "markdown",
      "source": [
        "Q.12 Describe a scenario where using a tuple would be preferable over a list.\n",
        "     \n",
        "   A good scenario to use a tuple instead of a listis when you want to store a fixed set of related values that should never change throughout the program. For example, representing the coordinates of a point in 2D space, like `(x, y)`, is ideal for a tuple because the position is constant and shouldn’t be modified accidentally. Using a tuple here ensures the data stays consistent and protects it from changes. Also, since tuples are immutable and hashable, they can be used as keys in dictionaries or elements of sets—something lists cannot do. So, when data integrity and fixed structure matter, tuples are preferable to lists.\n",
        "\n",
        "\n",
        "     "
      ],
      "metadata": {
        "id": "unUMWIxRn4hz"
      }
    },
    {
      "cell_type": "markdown",
      "source": [
        "Q.13 How do sets handle duplicate values in Python?\n",
        "\n",
        "In Python,sets automatically remove duplicate values. When you add elements to a set, only unique items are kept—any duplicates are ignored. This is because a set is an unordered collection of unique elements. For example, if you create a set like `my_set = {1, 2, 2, 3}`, Python will store it as `{1, 2, 3}`. This makes sets useful when you want to eliminate duplicates from a list or ensure that all items in a collection are unique.\n"
      ],
      "metadata": {
        "id": "HeELBWsQn6lN"
      }
    },
    {
      "cell_type": "markdown",
      "source": [
        "Q.14 How does the “in” keyword work differently for lists and dictionaries?\n",
        "\n",
        "- In Lists:\n",
        "The in keyword checks if a specific value is present in the list.\n",
        "\n",
        "It searches through each element one by one (linear search).\n",
        "\n",
        "Example:"
      ],
      "metadata": {
        "id": "OTLilCH6n61h"
      }
    },
    {
      "cell_type": "code",
      "source": [
        "list = [1, 2, 3, 4, 5]\n",
        "print(3 in list)"
      ],
      "metadata": {
        "colab": {
          "base_uri": "https://localhost:8080/"
        },
        "id": "XMzOcBxlrvYC",
        "outputId": "bb5f52b8-1a9b-48be-8898-339b51754ec8"
      },
      "execution_count": 6,
      "outputs": [
        {
          "output_type": "stream",
          "name": "stdout",
          "text": [
            "True\n"
          ]
        }
      ]
    },
    {
      "cell_type": "markdown",
      "source": [
        "- In Dictionaries:The in keyword checks if a key exists in the dictionary, not a value.\n",
        "\n",
        "It uses a fast hash-based lookup to check for the key.\n",
        "Example:"
      ],
      "metadata": {
        "id": "ZlDsxIMpn7Bv"
      }
    },
    {
      "cell_type": "code",
      "source": [
        "dict = {\"name\": \"Alice\", \"age\": 25}\n",
        "print(\"name\" in dict)\n",
        "print(\"Alice\" in dict)"
      ],
      "metadata": {
        "colab": {
          "base_uri": "https://localhost:8080/"
        },
        "id": "44hIDz3isJ1a",
        "outputId": "117c070c-3570-4302-b784-e0dabe7d7801"
      },
      "execution_count": 8,
      "outputs": [
        {
          "output_type": "stream",
          "name": "stdout",
          "text": [
            "True\n",
            "False\n"
          ]
        }
      ]
    },
    {
      "cell_type": "markdown",
      "source": [
        "Q.15 Can you modify the elements of a tuple? Explain why or why not.\n",
        "\n",
        "No, you cannot modify the elements of a tuple in Python because tuples are immutable. This means that once a tuple is created, its contents (the elements) cannot be changed, added, or removed."
      ],
      "metadata": {
        "id": "TbC3BP40n7IB"
      }
    },
    {
      "cell_type": "code",
      "source": [
        "my_tuple = (1, 2, 3)\n",
        "my_tuple[0] = 10"
      ],
      "metadata": {
        "colab": {
          "base_uri": "https://localhost:8080/",
          "height": 158
        },
        "id": "YparppqZsw8R",
        "outputId": "1c16ba77-b705-4807-e225-abdb5b1f0e02"
      },
      "execution_count": 9,
      "outputs": [
        {
          "output_type": "error",
          "ename": "TypeError",
          "evalue": "'tuple' object does not support item assignment",
          "traceback": [
            "\u001b[0;31m---------------------------------------------------------------------------\u001b[0m",
            "\u001b[0;31mTypeError\u001b[0m                                 Traceback (most recent call last)",
            "\u001b[0;32m<ipython-input-9-8a9c87d93ff4>\u001b[0m in \u001b[0;36m<cell line: 0>\u001b[0;34m()\u001b[0m\n\u001b[1;32m      1\u001b[0m \u001b[0mmy_tuple\u001b[0m \u001b[0;34m=\u001b[0m \u001b[0;34m(\u001b[0m\u001b[0;36m1\u001b[0m\u001b[0;34m,\u001b[0m \u001b[0;36m2\u001b[0m\u001b[0;34m,\u001b[0m \u001b[0;36m3\u001b[0m\u001b[0;34m)\u001b[0m\u001b[0;34m\u001b[0m\u001b[0;34m\u001b[0m\u001b[0m\n\u001b[0;32m----> 2\u001b[0;31m \u001b[0mmy_tuple\u001b[0m\u001b[0;34m[\u001b[0m\u001b[0;36m0\u001b[0m\u001b[0;34m]\u001b[0m \u001b[0;34m=\u001b[0m \u001b[0;36m10\u001b[0m\u001b[0;34m\u001b[0m\u001b[0;34m\u001b[0m\u001b[0m\n\u001b[0m",
            "\u001b[0;31mTypeError\u001b[0m: 'tuple' object does not support item assignment"
          ]
        }
      ]
    },
    {
      "cell_type": "markdown",
      "source": [
        "Q.16 What is a nested dictionary, and give an example of its use case?\n",
        "\n",
        "\n",
        "A nested dictionary in Python is a dictionary inside another dictionary. It allows you to store multiple levels of related data in a structured way, using keys to access each level.\n",
        "\n",
        "Example of a Nested Dictionary:"
      ],
      "metadata": {
        "id": "yi2llOwdn7LK"
      }
    },
    {
      "cell_type": "code",
      "source": [
        "students = {\"student1\": {\"name\": \"Alice\", \"age\": 20, \"grade\": \"A\"},\n",
        "    \"student2\": {\"name\": \"Bob\", \"age\": 22, \"grade\": \"B\"}}"
      ],
      "metadata": {
        "id": "lz_hdTsotKUt"
      },
      "execution_count": 13,
      "outputs": []
    },
    {
      "cell_type": "markdown",
      "source": [
        "Q.17 Describe the time complexity of accessing elements in a dictionary?\n",
        "\n",
        "The time complexity of accessing elements in a dictionary in Python is on average O(1), which means constant time. This is because dictionaries use a hash table under the hood. When you access a value using a key, Python computes the hash of the key and directly retrieves the value from the memory location where it is stored—making the lookup very fast."
      ],
      "metadata": {
        "id": "w-nSpjgUn7Nv"
      }
    },
    {
      "cell_type": "markdown",
      "source": [
        "Q.18 In what situations are lists preferred over dictionaries?\n",
        "\n",
        "Lists are preferred over dictionaries in Python when:\n",
        "\n",
        "1.Order matters:\n",
        "\n",
        "Lists keep items in the order they were added, making them ideal when the sequence of elements is important (e.g., to process items in a specific order).\n",
        "\n",
        "2.You only need values:\n",
        "\n",
        "When you just need to store a collection of items (like numbers, names, or objects) without pairing them with unique keys.\n",
        "\n",
        "3.Duplicate values are allowed:\n",
        "\n",
        "Lists can contain the same value multiple times, while dictionary keys must be unique."
      ],
      "metadata": {
        "id": "58W6mRWRn7RJ"
      }
    },
    {
      "cell_type": "code",
      "source": [
        "fruits = [\"apple\", \"banana\", \"cherry\", \"apple\"] # Order and duplicates are allowed\n",
        "\n"
      ],
      "metadata": {
        "id": "KvH0TvOxuOTv"
      },
      "execution_count": 15,
      "outputs": []
    },
    {
      "cell_type": "markdown",
      "source": [
        "Q.19 Why are dictionaries considered unordered, and how does that affect data retrieval?\n",
        "\n",
        "Dictionaries are considered unordered because they retrieve data by key, not by position. Before Python 3.7, they didn’t keep insertion order. In modern Python (3.7+), they do preserve order, but they’re still mainly used for fast key-based access, not for ordered data like lists.\n"
      ],
      "metadata": {
        "id": "xozF2nIotxai"
      }
    },
    {
      "cell_type": "markdown",
      "source": [
        "Q.20 Explain the difference between a list and a dictionary in terms of data retrieval.\n",
        "\n",
        "The main difference between a list and a dictionary in terms of data retrieval is how you access the data:\n",
        "\n",
        "* In a list, data is retrieved by index (position). For example, `my_list[0]` gets the first item.\n",
        "* In a dictionary, data is retrieved by key. For example, `my_dict[\"name\"]` gets the value associated with the key `\"name\"`.\n",
        "\n",
        "So, lists use numeric positions, while dictionaries use unique keys for accessing data.\n"
      ],
      "metadata": {
        "id": "TKshEvq8txm1"
      }
    },
    {
      "cell_type": "markdown",
      "source": [
        "# Practical Questions:"
      ],
      "metadata": {
        "id": "VOlf4C9Bu2Qi"
      }
    },
    {
      "cell_type": "markdown",
      "source": [
        "Q.1 Write a code to create a string with your name and print it.\n",
        "  "
      ],
      "metadata": {
        "id": "-_yfJaQkwXfU"
      }
    },
    {
      "cell_type": "code",
      "source": [
        "name = \"devansh\"\n",
        "print(name)"
      ],
      "metadata": {
        "colab": {
          "base_uri": "https://localhost:8080/"
        },
        "id": "AlmuoXwJwgpc",
        "outputId": "a1c604cd-3daf-498f-bac0-c22110b7f8dc"
      },
      "execution_count": 16,
      "outputs": [
        {
          "output_type": "stream",
          "name": "stdout",
          "text": [
            "devansh\n"
          ]
        }
      ]
    },
    {
      "cell_type": "markdown",
      "source": [
        "Q.2 Write a code to find the length of the string \"Hello World\".\n"
      ],
      "metadata": {
        "id": "WPcL5TD0wzVq"
      }
    },
    {
      "cell_type": "code",
      "source": [
        "text = \"Hello World\"\n",
        "length = len(text)\n",
        "print(length)"
      ],
      "metadata": {
        "colab": {
          "base_uri": "https://localhost:8080/"
        },
        "id": "rQErdkmoxAun",
        "outputId": "68b8534d-c82e-46b6-ca5d-a941775eea18"
      },
      "execution_count": 17,
      "outputs": [
        {
          "output_type": "stream",
          "name": "stdout",
          "text": [
            "11\n"
          ]
        }
      ]
    },
    {
      "cell_type": "markdown",
      "source": [
        "Q.3 Write a code to slice the first 3 characters from the string \"Python Programming\"."
      ],
      "metadata": {
        "id": "OiatbfvOxTeF"
      }
    },
    {
      "cell_type": "code",
      "source": [
        "text = \"Python Programming\"\n",
        "first_three = text[:3]\n",
        "print(first_three)"
      ],
      "metadata": {
        "colab": {
          "base_uri": "https://localhost:8080/"
        },
        "id": "l3GPe_dfxY-j",
        "outputId": "6204ecc1-8184-49da-ba18-8dad3958e066"
      },
      "execution_count": 18,
      "outputs": [
        {
          "output_type": "stream",
          "name": "stdout",
          "text": [
            "Pyt\n"
          ]
        }
      ]
    },
    {
      "cell_type": "markdown",
      "source": [
        "Q.4 Write a code to convert the string \"hello\" to uppercase."
      ],
      "metadata": {
        "id": "u4QDeu9bxfog"
      }
    },
    {
      "cell_type": "code",
      "source": [
        "text = \"hello\"\n",
        "uppercase_text = text.upper()\n",
        "print(uppercase_text)"
      ],
      "metadata": {
        "colab": {
          "base_uri": "https://localhost:8080/"
        },
        "id": "NGK6p1trxmKa",
        "outputId": "37bca7e4-6b14-462b-ce63-3f17ea510629"
      },
      "execution_count": 19,
      "outputs": [
        {
          "output_type": "stream",
          "name": "stdout",
          "text": [
            "HELLO\n"
          ]
        }
      ]
    },
    {
      "cell_type": "markdown",
      "source": [
        "Q.5 Write a code to replace the word \"apple\" with \"orange\" in the string \"I like apple\"."
      ],
      "metadata": {
        "id": "DQYkLbLvxqCj"
      }
    },
    {
      "cell_type": "code",
      "source": [
        "text = \"I like apple\"\n",
        "new_text = text.replace(\"apple\", \"orange\")\n",
        "print(new_text)"
      ],
      "metadata": {
        "colab": {
          "base_uri": "https://localhost:8080/"
        },
        "id": "5PTFUOk6xw-n",
        "outputId": "f801cb16-df6e-4c26-e9c6-85cc4e2da6a1"
      },
      "execution_count": 20,
      "outputs": [
        {
          "output_type": "stream",
          "name": "stdout",
          "text": [
            "I like orange\n"
          ]
        }
      ]
    },
    {
      "cell_type": "markdown",
      "source": [
        "Q.6 Write a code to create a list with numbers 1 to 5 and print it."
      ],
      "metadata": {
        "id": "2xK0FslLyBw-"
      }
    },
    {
      "cell_type": "code",
      "source": [
        "numbers = [1, 2, 3, 4, 5]\n",
        "print(numbers)"
      ],
      "metadata": {
        "colab": {
          "base_uri": "https://localhost:8080/"
        },
        "id": "rVUE02mMx2cR",
        "outputId": "813ccb79-1500-4d93-ed68-6c7d0a6757b8"
      },
      "execution_count": 21,
      "outputs": [
        {
          "output_type": "stream",
          "name": "stdout",
          "text": [
            "[1, 2, 3, 4, 5]\n"
          ]
        }
      ]
    },
    {
      "cell_type": "markdown",
      "source": [
        "Q.7 Write a code to append the number 10 to the list [1, 2, 3, 4]."
      ],
      "metadata": {
        "id": "d25pov6W5Jrk"
      }
    },
    {
      "cell_type": "code",
      "source": [
        "num = [1, 2, 3, 4]\n",
        "num.append(10)\n",
        "print(num)"
      ],
      "metadata": {
        "colab": {
          "base_uri": "https://localhost:8080/"
        },
        "id": "Mk1rtK_45J8J",
        "outputId": "cf99103d-05c3-447a-a60c-c318a79c1a4f"
      },
      "execution_count": 23,
      "outputs": [
        {
          "output_type": "stream",
          "name": "stdout",
          "text": [
            "[1, 2, 3, 4, 10]\n"
          ]
        }
      ]
    },
    {
      "cell_type": "markdown",
      "source": [
        "Q.8 Write a code to remove the number 3 from the list [1, 2, 3, 4, 5]."
      ],
      "metadata": {
        "id": "yDstalWB5r-p"
      }
    },
    {
      "cell_type": "code",
      "source": [
        "numbers = [1, 2, 3, 4, 5]\n",
        "numbers.remove(3)\n",
        "print(numbers)"
      ],
      "metadata": {
        "colab": {
          "base_uri": "https://localhost:8080/"
        },
        "id": "_3vKv8225yZW",
        "outputId": "9ff71c47-b5be-47c3-d9f8-99a92f432a03"
      },
      "execution_count": 24,
      "outputs": [
        {
          "output_type": "stream",
          "name": "stdout",
          "text": [
            "[1, 2, 4, 5]\n"
          ]
        }
      ]
    },
    {
      "cell_type": "markdown",
      "source": [
        "Q.9 Write a code to access the second element in the list ['a', 'b', 'c', 'd']."
      ],
      "metadata": {
        "id": "rvuxp7eN57CB"
      }
    },
    {
      "cell_type": "code",
      "source": [
        "list = ['a', 'b', 'c', 'd']\n",
        "second_element = list[1]\n",
        "print(second_element)"
      ],
      "metadata": {
        "colab": {
          "base_uri": "https://localhost:8080/"
        },
        "id": "dJHQUU0j54zf",
        "outputId": "4f940d6e-584a-4ed0-f15d-90b8e5624937"
      },
      "execution_count": 26,
      "outputs": [
        {
          "output_type": "stream",
          "name": "stdout",
          "text": [
            "b\n"
          ]
        }
      ]
    },
    {
      "cell_type": "markdown",
      "source": [
        "Q.10 Write a code to reverse the list [10, 20, 30, 40, 50]."
      ],
      "metadata": {
        "id": "mICDE0Ut6Uii"
      }
    },
    {
      "cell_type": "code",
      "source": [
        "numbers = [10, 20, 30, 40, 50]\n",
        "numbers.reverse()\n",
        "print(numbers)"
      ],
      "metadata": {
        "colab": {
          "base_uri": "https://localhost:8080/"
        },
        "id": "E3V6-Tmu6bIO",
        "outputId": "dacb8aba-e7a3-48a1-a5c2-73134a9f975c"
      },
      "execution_count": 27,
      "outputs": [
        {
          "output_type": "stream",
          "name": "stdout",
          "text": [
            "[50, 40, 30, 20, 10]\n"
          ]
        }
      ]
    },
    {
      "cell_type": "code",
      "source": [],
      "metadata": {
        "id": "wfif3hMx6iGX"
      },
      "execution_count": null,
      "outputs": []
    }
  ]
}